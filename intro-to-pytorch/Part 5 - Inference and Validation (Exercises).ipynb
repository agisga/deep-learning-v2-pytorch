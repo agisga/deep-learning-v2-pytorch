{
 "cells": [
  {
   "cell_type": "markdown",
   "metadata": {},
   "source": [
    "# Inference and Validation\n",
    "\n",
    "Now that you have a trained network, you can use it for making predictions. This is typically called **inference**, a term borrowed from statistics. However, neural networks have a tendency to perform *too well* on the training data and aren't able to generalize to data that hasn't been seen before. This is called **overfitting** and it impairs inference performance. To test for overfitting while training, we measure the performance on data not in the training set called the **validation** set. We avoid overfitting through regularization such as dropout while monitoring the validation performance during training. In this notebook, I'll show you how to do this in PyTorch. \n",
    "\n",
    "As usual, let's start by loading the dataset through torchvision. You'll learn more about torchvision and loading data in a later part. This time we'll be taking advantage of the test set which you can get by setting `train=False` here:\n",
    "\n",
    "```python\n",
    "testset = datasets.FashionMNIST('~/.pytorch/F_MNIST_data/', download=True, train=False, transform=transform)\n",
    "```\n",
    "\n",
    "The test set contains images just like the training set. Typically you'll see 10-20% of the original dataset held out for testing and validation with the rest being used for training."
   ]
  },
  {
   "cell_type": "code",
   "execution_count": 1,
   "metadata": {},
   "outputs": [],
   "source": [
    "import torch\n",
    "from torchvision import datasets, transforms\n",
    "\n",
    "# Define a transform to normalize the data\n",
    "transform = transforms.Compose([transforms.ToTensor(),\n",
    "                                transforms.Normalize((0.5, 0.5, 0.5), (0.5, 0.5, 0.5))])\n",
    "# Download and load the training data\n",
    "trainset = datasets.FashionMNIST('~/.pytorch/F_MNIST_data/', download=True, train=True, transform=transform)\n",
    "trainloader = torch.utils.data.DataLoader(trainset, batch_size=64, shuffle=True)\n",
    "\n",
    "# Download and load the test data\n",
    "testset = datasets.FashionMNIST('~/.pytorch/F_MNIST_data/', download=True, train=False, transform=transform)\n",
    "testloader = torch.utils.data.DataLoader(testset, batch_size=64, shuffle=True)"
   ]
  },
  {
   "cell_type": "markdown",
   "metadata": {},
   "source": [
    "Here I'll create a model like normal, using the same one from my solution for part 4."
   ]
  },
  {
   "cell_type": "code",
   "execution_count": 2,
   "metadata": {},
   "outputs": [],
   "source": [
    "from torch import nn, optim\n",
    "import torch.nn.functional as F\n",
    "\n",
    "class Classifier(nn.Module):\n",
    "    def __init__(self):\n",
    "        super().__init__()\n",
    "        self.fc1 = nn.Linear(784, 256)\n",
    "        self.fc2 = nn.Linear(256, 128)\n",
    "        self.fc3 = nn.Linear(128, 64)\n",
    "        self.fc4 = nn.Linear(64, 10)\n",
    "        \n",
    "    def forward(self, x):\n",
    "        # make sure input tensor is flattened\n",
    "        x = x.view(x.shape[0], -1)\n",
    "        \n",
    "        x = F.relu(self.fc1(x))\n",
    "        x = F.relu(self.fc2(x))\n",
    "        x = F.relu(self.fc3(x))\n",
    "        x = F.log_softmax(self.fc4(x), dim=1)\n",
    "        \n",
    "        return x"
   ]
  },
  {
   "cell_type": "markdown",
   "metadata": {},
   "source": [
    "The goal of validation is to measure the model's performance on data that isn't part of the training set. Performance here is up to the developer to define though. Typically this is just accuracy, the percentage of classes the network predicted correctly. Other options are [precision and recall](https://en.wikipedia.org/wiki/Precision_and_recall#Definition_(classification_context)) and top-5 error rate. We'll focus on accuracy here. First I'll do a forward pass with one batch from the test set."
   ]
  },
  {
   "cell_type": "code",
   "execution_count": 3,
   "metadata": {},
   "outputs": [
    {
     "name": "stdout",
     "output_type": "stream",
     "text": [
      "torch.Size([64, 10])\n"
     ]
    }
   ],
   "source": [
    "model = Classifier()\n",
    "\n",
    "images, labels = next(iter(testloader))\n",
    "# Get the class probabilities\n",
    "ps = torch.exp(model(images))\n",
    "# Make sure the shape is appropriate, we should get 10 class probabilities for 64 examples\n",
    "print(ps.shape)"
   ]
  },
  {
   "cell_type": "markdown",
   "metadata": {},
   "source": [
    "With the probabilities, we can get the most likely class using the `ps.topk` method. This returns the $k$ highest values. Since we just want the most likely class, we can use `ps.topk(1)`. This returns a tuple of the top-$k$ values and the top-$k$ indices. If the highest value is the fifth element, we'll get back 4 as the index."
   ]
  },
  {
   "cell_type": "code",
   "execution_count": 22,
   "metadata": {
    "scrolled": true
   },
   "outputs": [
    {
     "name": "stdout",
     "output_type": "stream",
     "text": [
      "tensor([[5],\n",
      "        [5],\n",
      "        [5],\n",
      "        [5],\n",
      "        [5],\n",
      "        [5],\n",
      "        [5],\n",
      "        [5],\n",
      "        [5],\n",
      "        [5]])\n"
     ]
    }
   ],
   "source": [
    "top_p, top_class = ps.topk(1, dim=1)\n",
    "# Look at the most likely classes for the first 10 examples\n",
    "print(top_class[:10,:])"
   ]
  },
  {
   "cell_type": "markdown",
   "metadata": {},
   "source": [
    "Now we can check if the predicted classes match the labels. This is simple to do by equating `top_class` and `labels`, but we have to be careful of the shapes. Here `top_class` is a 2D tensor with shape `(64, 1)` while `labels` is 1D with shape `(64)`. To get the equality to work out the way we want, `top_class` and `labels` must have the same shape.\n",
    "\n",
    "If we do\n",
    "\n",
    "```python\n",
    "equals = top_class == labels\n",
    "```\n",
    "\n",
    "`equals` will have shape `(64, 64)`, try it yourself. What it's doing is comparing the one element in each row of `top_class` with each element in `labels` which returns 64 True/False boolean values for each row."
   ]
  },
  {
   "cell_type": "code",
   "execution_count": 23,
   "metadata": {},
   "outputs": [],
   "source": [
    "equals = top_class == labels.view(*top_class.shape)"
   ]
  },
  {
   "cell_type": "code",
   "execution_count": 24,
   "metadata": {
    "scrolled": true
   },
   "outputs": [
    {
     "data": {
      "text/plain": [
       "tensor([0, 0, 0, 0, 0, 0, 0, 0, 0, 0, 0, 0, 0, 0, 1, 0, 0, 0, 1, 0, 1, 0, 0, 1,\n",
       "        0, 0, 0, 0, 0, 0, 0, 0, 0, 0, 0, 0, 0, 0, 0, 0, 0, 0, 0, 0, 0, 0, 0, 0,\n",
       "        1, 0, 1, 0, 0, 0, 0, 0, 0, 0, 0, 0, 0, 0, 0, 1], dtype=torch.uint8)"
      ]
     },
     "execution_count": 24,
     "metadata": {},
     "output_type": "execute_result"
    }
   ],
   "source": [
    "equals.flatten()"
   ]
  },
  {
   "cell_type": "code",
   "execution_count": 39,
   "metadata": {},
   "outputs": [
    {
     "data": {
      "text/plain": [
       "'torch.FloatTensor'"
      ]
     },
     "execution_count": 39,
     "metadata": {},
     "output_type": "execute_result"
    }
   ],
   "source": [
    "equals.type(torch.FloatTensor).type()"
   ]
  },
  {
   "cell_type": "markdown",
   "metadata": {},
   "source": [
    "Now we need to calculate the percentage of correct predictions. `equals` has binary values, either 0 or 1. This means that if we just sum up all the values and divide by the number of values, we get the percentage of correct predictions. This is the same operation as taking the mean, so we can get the accuracy with a call to `torch.mean`. If only it was that simple. If you try `torch.mean(equals)`, you'll get an error\n",
    "\n",
    "```\n",
    "RuntimeError: mean is not implemented for type torch.ByteTensor\n",
    "```\n",
    "\n",
    "This happens because `equals` has type `torch.ByteTensor` but `torch.mean` isn't implemented for tensors with that type. So we'll need to convert `equals` to a float tensor. Note that when we take `torch.mean` it returns a scalar tensor, to get the actual value as a float we'll need to do `accuracy.item()`."
   ]
  },
  {
   "cell_type": "code",
   "execution_count": 32,
   "metadata": {},
   "outputs": [
    {
     "name": "stdout",
     "output_type": "stream",
     "text": [
      "Accuracy: 10.9375%\n"
     ]
    }
   ],
   "source": [
    "accuracy = torch.mean(equals.type(torch.FloatTensor))\n",
    "print(f'Accuracy: {accuracy.item()*100}%')"
   ]
  },
  {
   "cell_type": "code",
   "execution_count": 34,
   "metadata": {},
   "outputs": [
    {
     "name": "stdout",
     "output_type": "stream",
     "text": [
      "torch.Size([])\n",
      "<class 'torch.Tensor'>\n",
      "<class 'float'>\n"
     ]
    }
   ],
   "source": [
    "print(accuracy.shape)\n",
    "print(type(accuracy))\n",
    "print(type(accuracy.item()))"
   ]
  },
  {
   "cell_type": "markdown",
   "metadata": {},
   "source": [
    "The network is untrained so it's making random guesses and we should see an accuracy around 10%. Now let's train our network and include our validation pass so we can measure how well the network is performing on the test set. Since we're not updating our parameters in the validation pass, we can speed up our code by turning off gradients using `torch.no_grad()`:\n",
    "\n",
    "```python\n",
    "# turn off gradients\n",
    "with torch.no_grad():\n",
    "    # validation pass here\n",
    "    for images, labels in testloader:\n",
    "        ...\n",
    "```\n",
    "\n",
    ">**Exercise:** Implement the validation loop below and print out the total accuracy after the loop. You can largely copy and paste the code from above, but I suggest typing it in because writing it out yourself is essential for building the skill. In general you'll always learn more by typing it rather than copy-pasting. You should be able to get an accuracy above 80%."
   ]
  },
  {
   "cell_type": "code",
   "execution_count": 40,
   "metadata": {},
   "outputs": [],
   "source": [
    "# Use GPU\n",
    "device = torch.device(\"cuda:0\")\n",
    "torch.set_default_tensor_type('torch.cuda.FloatTensor')"
   ]
  },
  {
   "cell_type": "code",
   "execution_count": 52,
   "metadata": {},
   "outputs": [
    {
     "name": "stdout",
     "output_type": "stream",
     "text": [
      "Epoch: 0/30 | Training Loss: 0.517 | Training Accuracy: 81.070% | Test Accuracy: 84.037%\n",
      "Epoch: 1/30 | Training Loss: 0.397 | Training Accuracy: 85.301% | Test Accuracy: 84.554%\n",
      "Epoch: 2/30 | Training Loss: 0.356 | Training Accuracy: 87.024% | Test Accuracy: 85.609%\n",
      "Epoch: 3/30 | Training Loss: 0.334 | Training Accuracy: 87.675% | Test Accuracy: 86.196%\n",
      "Epoch: 4/30 | Training Loss: 0.312 | Training Accuracy: 88.504% | Test Accuracy: 86.634%\n",
      "Epoch: 5/30 | Training Loss: 0.300 | Training Accuracy: 88.991% | Test Accuracy: 86.346%\n",
      "Epoch: 6/30 | Training Loss: 0.293 | Training Accuracy: 89.301% | Test Accuracy: 87.420%\n",
      "Epoch: 7/30 | Training Loss: 0.282 | Training Accuracy: 89.619% | Test Accuracy: 86.634%\n",
      "Epoch: 8/30 | Training Loss: 0.274 | Training Accuracy: 89.872% | Test Accuracy: 87.291%\n",
      "Epoch: 9/30 | Training Loss: 0.268 | Training Accuracy: 90.120% | Test Accuracy: 87.032%\n",
      "Epoch: 10/30 | Training Loss: 0.263 | Training Accuracy: 90.388% | Test Accuracy: 87.779%\n",
      "Epoch: 11/30 | Training Loss: 0.252 | Training Accuracy: 90.600% | Test Accuracy: 87.261%\n",
      "Epoch: 12/30 | Training Loss: 0.249 | Training Accuracy: 90.740% | Test Accuracy: 86.873%\n",
      "Epoch: 13/30 | Training Loss: 0.246 | Training Accuracy: 90.935% | Test Accuracy: 87.281%\n",
      "Epoch: 14/30 | Training Loss: 0.237 | Training Accuracy: 91.285% | Test Accuracy: 88.316%\n",
      "Epoch: 15/30 | Training Loss: 0.236 | Training Accuracy: 91.416% | Test Accuracy: 87.649%\n",
      "Epoch: 16/30 | Training Loss: 0.231 | Training Accuracy: 91.628% | Test Accuracy: 87.868%\n",
      "Epoch: 17/30 | Training Loss: 0.223 | Training Accuracy: 91.799% | Test Accuracy: 87.818%\n",
      "Epoch: 18/30 | Training Loss: 0.223 | Training Accuracy: 91.873% | Test Accuracy: 87.619%\n",
      "Epoch: 19/30 | Training Loss: 0.218 | Training Accuracy: 91.899% | Test Accuracy: 88.316%\n",
      "Epoch: 20/30 | Training Loss: 0.218 | Training Accuracy: 92.033% | Test Accuracy: 87.649%\n",
      "Epoch: 21/30 | Training Loss: 0.208 | Training Accuracy: 92.267% | Test Accuracy: 87.968%\n",
      "Epoch: 22/30 | Training Loss: 0.207 | Training Accuracy: 92.356% | Test Accuracy: 88.495%\n",
      "Epoch: 23/30 | Training Loss: 0.200 | Training Accuracy: 92.621% | Test Accuracy: 88.087%\n",
      "Epoch: 24/30 | Training Loss: 0.203 | Training Accuracy: 92.627% | Test Accuracy: 87.550%\n",
      "Epoch: 25/30 | Training Loss: 0.196 | Training Accuracy: 92.752% | Test Accuracy: 87.818%\n",
      "Epoch: 26/30 | Training Loss: 0.193 | Training Accuracy: 92.869% | Test Accuracy: 87.958%\n",
      "Epoch: 27/30 | Training Loss: 0.193 | Training Accuracy: 92.969% | Test Accuracy: 87.331%\n",
      "Epoch: 28/30 | Training Loss: 0.186 | Training Accuracy: 93.075% | Test Accuracy: 88.296%\n",
      "Epoch: 29/30 | Training Loss: 0.188 | Training Accuracy: 93.265% | Test Accuracy: 87.818%\n"
     ]
    }
   ],
   "source": [
    "model = Classifier()\n",
    "model = model.cuda()\n",
    "\n",
    "criterion = nn.NLLLoss()\n",
    "optimizer = optim.Adam(model.parameters(), lr=0.003)\n",
    "\n",
    "epochs = 30\n",
    "steps = 0\n",
    "\n",
    "train_losses, train_acc, test_acc = [], [], []\n",
    "for e in range(epochs):\n",
    "    running_loss = 0\n",
    "    running_accuracy = 0\n",
    "    for images, labels in trainloader:\n",
    "        images = images.cuda()\n",
    "        labels = labels.cuda()\n",
    "        \n",
    "        optimizer.zero_grad()\n",
    "        \n",
    "        log_ps = model(images)\n",
    "        loss = criterion(log_ps, labels)\n",
    "        loss.backward()\n",
    "        optimizer.step()\n",
    "        \n",
    "        ps = torch.exp(log_ps)\n",
    "        top_p, top_class = ps.topk(1, dim=1)\n",
    "        equals = top_class == labels.view(*top_class.shape)\n",
    "        accuracy = torch.mean(equals.type(torch.FloatTensor))\n",
    "        \n",
    "        running_loss += loss.item()\n",
    "        running_accuracy += accuracy.item()\n",
    "        \n",
    "    else:\n",
    "        ## TODO: Implement the validation pass and print out the validation accuracy\n",
    "        train_acc.append(running_accuracy / len(trainloader))\n",
    "        train_losses.append(running_loss / len(trainloader))\n",
    "        \n",
    "        accuracy = 0\n",
    "        with torch.no_grad():\n",
    "            for images, labels in testloader:\n",
    "                images = images.cuda()\n",
    "                labels = labels.cuda()\n",
    "                \n",
    "                ps = torch.exp(model(images))\n",
    "                top_p, top_class = ps.topk(1, dim=1)\n",
    "                equals = top_class == labels.view(*top_class.shape)\n",
    "                accuracy += torch.mean(equals.type(torch.FloatTensor)).item()     \n",
    "        test_acc.append(accuracy / len(testloader))\n",
    "        \n",
    "        print(f'Epoch: {e}/{epochs} |',\n",
    "              f'Training Loss: {train_losses[-1]:.3f} |',\n",
    "              f'Training Accuracy: {train_acc[-1]*100:.3f}% |',\n",
    "              f'Test Accuracy: {test_acc[-1]*100:.3f}%')"
   ]
  },
  {
   "cell_type": "markdown",
   "metadata": {},
   "source": [
    "## Overfitting\n",
    "\n",
    "If we look at the training and validation losses as we train the network, we can see a phenomenon known as overfitting.\n",
    "\n",
    "<img src='assets/overfitting.png' width=450px>\n",
    "\n",
    "The network learns the training set better and better, resulting in lower training losses. However, it starts having problems generalizing to data outside the training set leading to the validation loss increasing. The ultimate goal of any deep learning model is to make predictions on new data, so we should strive to get the lowest validation loss possible. One option is to use the version of the model with the lowest validation loss, here the one around 8-10 training epochs. This strategy is called *early-stopping*. In practice, you'd save the model frequently as you're training then later choose the model with the lowest validation loss.\n",
    "\n",
    "The most common method to reduce overfitting (outside of early-stopping) is *dropout*, where we randomly drop input units. This forces the network to share information between weights, increasing it's ability to generalize to new data. Adding dropout in PyTorch is straightforward using the [`nn.Dropout`](https://pytorch.org/docs/stable/nn.html#torch.nn.Dropout) module.\n",
    "\n",
    "```python\n",
    "class Classifier(nn.Module):\n",
    "    def __init__(self):\n",
    "        super().__init__()\n",
    "        self.fc1 = nn.Linear(784, 256)\n",
    "        self.fc2 = nn.Linear(256, 128)\n",
    "        self.fc3 = nn.Linear(128, 64)\n",
    "        self.fc4 = nn.Linear(64, 10)\n",
    "        \n",
    "        # Dropout module with 0.2 drop probability\n",
    "        self.dropout = nn.Dropout(p=0.2)\n",
    "        \n",
    "    def forward(self, x):\n",
    "        # make sure input tensor is flattened\n",
    "        x = x.view(x.shape[0], -1)\n",
    "        \n",
    "        # Now with dropout\n",
    "        x = self.dropout(F.relu(self.fc1(x)))\n",
    "        x = self.dropout(F.relu(self.fc2(x)))\n",
    "        x = self.dropout(F.relu(self.fc3(x)))\n",
    "        \n",
    "        # output so no dropout here\n",
    "        x = F.log_softmax(self.fc4(x), dim=1)\n",
    "        \n",
    "        return x\n",
    "```\n",
    "\n",
    "During training we want to use dropout to prevent overfitting, but during inference we want to use the entire network. So, we need to turn off dropout during validation, testing, and whenever we're using the network to make predictions. To do this, you use `model.eval()`. This sets the model to evaluation mode where the dropout probability is 0. You can turn dropout back on by setting the model to train mode with `model.train()`. In general, the pattern for the validation loop will look like this, where you turn off gradients, set the model to evaluation mode, calculate the validation loss and metric, then set the model back to train mode.\n",
    "\n",
    "```python\n",
    "# turn off gradients\n",
    "with torch.no_grad():\n",
    "    \n",
    "    # set model to evaluation mode\n",
    "    model.eval()\n",
    "    \n",
    "    # validation pass here\n",
    "    for images, labels in testloader:\n",
    "        ...\n",
    "\n",
    "# set model back to train mode\n",
    "model.train()\n",
    "```"
   ]
  },
  {
   "cell_type": "markdown",
   "metadata": {},
   "source": [
    "> **Exercise:** Add dropout to your model and train it on Fashion-MNIST again. See if you can get a lower validation loss or higher accuracy."
   ]
  },
  {
   "cell_type": "code",
   "execution_count": 62,
   "metadata": {},
   "outputs": [],
   "source": [
    "## TODO: Define your model with dropout added\n",
    "class Classifier(nn.Module):\n",
    "    def __init__(self):\n",
    "        super().__init__()\n",
    "        self.fc1 = nn.Linear(784, 512)\n",
    "        self.fc2 = nn.Linear(512, 256)\n",
    "        self.fc3 = nn.Linear(256, 128)\n",
    "        self.fc4 = nn.Linear(128, 64)\n",
    "        self.fc5 = nn.Linear(64, 10)\n",
    "        self.dropout = nn.Dropout(p=0.25)\n",
    "\n",
    "    def forward(self, x):\n",
    "        # make sure input tensor is flattened\n",
    "        x = x.view(x.shape[0], -1)\n",
    "\n",
    "        # Now with dropout\n",
    "        x = self.dropout(F.relu(self.fc1(x)))\n",
    "        x = self.dropout(F.relu(self.fc2(x)))\n",
    "        x = self.dropout(F.relu(self.fc3(x)))\n",
    "        x = self.dropout(F.relu(self.fc4(x)))\n",
    "\n",
    "        # output so no dropout here\n",
    "        x = F.log_softmax(self.fc5(x), dim=1)\n",
    "\n",
    "        return x"
   ]
  },
  {
   "cell_type": "code",
   "execution_count": 63,
   "metadata": {},
   "outputs": [
    {
     "name": "stdout",
     "output_type": "stream",
     "text": [
      "Epoch: 01/30 | Training Loss: 0.646 | Training Accuracy: 76.689% | Test Accuracy: 82.743%\n",
      "Epoch: 02/30 | Training Loss: 0.465 | Training Accuracy: 83.767% | Test Accuracy: 84.743%\n",
      "Epoch: 03/30 | Training Loss: 0.424 | Training Accuracy: 84.988% | Test Accuracy: 85.301%\n",
      "Epoch: 04/30 | Training Loss: 0.397 | Training Accuracy: 86.174% | Test Accuracy: 85.340%\n",
      "Epoch: 05/30 | Training Loss: 0.378 | Training Accuracy: 86.632% | Test Accuracy: 86.296%\n",
      "Epoch: 06/30 | Training Loss: 0.365 | Training Accuracy: 87.074% | Test Accuracy: 87.371%\n",
      "Epoch: 07/30 | Training Loss: 0.355 | Training Accuracy: 87.368% | Test Accuracy: 86.296%\n",
      "Epoch: 08/30 | Training Loss: 0.341 | Training Accuracy: 87.770% | Test Accuracy: 87.361%\n",
      "Epoch: 09/30 | Training Loss: 0.331 | Training Accuracy: 88.205% | Test Accuracy: 87.689%\n",
      "Epoch: 10/30 | Training Loss: 0.325 | Training Accuracy: 88.360% | Test Accuracy: 87.450%\n",
      "Epoch: 11/30 | Training Loss: 0.321 | Training Accuracy: 88.491% | Test Accuracy: 88.505%\n",
      "Epoch: 12/30 | Training Loss: 0.314 | Training Accuracy: 88.724% | Test Accuracy: 87.540%\n",
      "Epoch: 13/30 | Training Loss: 0.306 | Training Accuracy: 89.001% | Test Accuracy: 88.246%\n",
      "Epoch: 14/30 | Training Loss: 0.304 | Training Accuracy: 89.147% | Test Accuracy: 87.888%\n",
      "Epoch: 15/30 | Training Loss: 0.299 | Training Accuracy: 89.377% | Test Accuracy: 88.286%\n",
      "Epoch: 16/30 | Training Loss: 0.289 | Training Accuracy: 89.587% | Test Accuracy: 88.436%\n",
      "Epoch: 17/30 | Training Loss: 0.288 | Training Accuracy: 89.642% | Test Accuracy: 88.296%\n",
      "Epoch: 18/30 | Training Loss: 0.284 | Training Accuracy: 89.780% | Test Accuracy: 88.475%\n",
      "Epoch: 19/30 | Training Loss: 0.281 | Training Accuracy: 89.877% | Test Accuracy: 88.575%\n",
      "Epoch: 20/30 | Training Loss: 0.277 | Training Accuracy: 90.027% | Test Accuracy: 88.645%\n",
      "Epoch: 21/30 | Training Loss: 0.272 | Training Accuracy: 90.170% | Test Accuracy: 88.416%\n",
      "Epoch: 22/30 | Training Loss: 0.273 | Training Accuracy: 90.162% | Test Accuracy: 88.704%\n",
      "Epoch: 23/30 | Training Loss: 0.269 | Training Accuracy: 90.390% | Test Accuracy: 88.525%\n",
      "Epoch: 24/30 | Training Loss: 0.266 | Training Accuracy: 90.558% | Test Accuracy: 88.684%\n",
      "Epoch: 25/30 | Training Loss: 0.268 | Training Accuracy: 90.437% | Test Accuracy: 88.873%\n",
      "Epoch: 26/30 | Training Loss: 0.256 | Training Accuracy: 90.738% | Test Accuracy: 89.132%\n",
      "Epoch: 27/30 | Training Loss: 0.256 | Training Accuracy: 90.840% | Test Accuracy: 88.664%\n",
      "Epoch: 28/30 | Training Loss: 0.254 | Training Accuracy: 90.935% | Test Accuracy: 88.744%\n",
      "Epoch: 29/30 | Training Loss: 0.248 | Training Accuracy: 91.121% | Test Accuracy: 89.112%\n",
      "Epoch: 30/30 | Training Loss: 0.245 | Training Accuracy: 91.141% | Test Accuracy: 89.301%\n"
     ]
    }
   ],
   "source": [
    "## TODO: Train your model with dropout, and monitor the training progress with the validation loss and accuracy\n",
    "model = Classifier()\n",
    "model = model.cuda()\n",
    "\n",
    "criterion = nn.NLLLoss()\n",
    "optimizer = optim.Adam(model.parameters(), lr=0.001)\n",
    "\n",
    "epochs = 30\n",
    "train_losses, train_acc, test_acc = [], [], []\n",
    "\n",
    "for e in range(epochs):\n",
    "    running_loss = 0\n",
    "    running_accuracy = 0\n",
    "    for images, labels in trainloader:\n",
    "        images = images.cuda()\n",
    "        labels = labels.cuda()\n",
    "        \n",
    "        optimizer.zero_grad()\n",
    "        \n",
    "        log_ps = model(images)\n",
    "        loss = criterion(log_ps, labels)\n",
    "        loss.backward()\n",
    "        optimizer.step()\n",
    "        \n",
    "        ps = torch.exp(log_ps)\n",
    "        top_p, top_class = ps.topk(1, dim=1)\n",
    "        equals = top_class == labels.view(*top_class.shape)\n",
    "        accuracy = torch.mean(equals.type(torch.FloatTensor))\n",
    "        \n",
    "        running_loss += loss.item()\n",
    "        running_accuracy += accuracy.item()\n",
    "        \n",
    "    else:\n",
    "        train_acc.append(running_accuracy / len(trainloader))\n",
    "        train_losses.append(running_loss / len(trainloader))\n",
    "        \n",
    "        accuracy = 0\n",
    "        with torch.no_grad():\n",
    "            # set model to evaluation mode\n",
    "            model.eval()\n",
    "            \n",
    "            for images, labels in testloader:\n",
    "                images = images.cuda()\n",
    "                labels = labels.cuda()\n",
    "                \n",
    "                ps = torch.exp(model(images))\n",
    "                top_p, top_class = ps.topk(1, dim=1)\n",
    "                equals = top_class == labels.view(*top_class.shape)\n",
    "                accuracy += torch.mean(equals.type(torch.FloatTensor)).item()\n",
    "                \n",
    "        test_acc.append(accuracy / len(testloader))\n",
    "        # set model back to train mode\n",
    "        model.train()\n",
    "        \n",
    "        print(f'Epoch: {e+1:02d}/{epochs} |',\n",
    "              f'Training Loss: {train_losses[-1]:.3f} |',\n",
    "              f'Training Accuracy: {train_acc[-1]*100:.3f}% |',\n",
    "              f'Test Accuracy: {test_acc[-1]*100:.3f}%')"
   ]
  },
  {
   "cell_type": "code",
   "execution_count": 64,
   "metadata": {},
   "outputs": [
    {
     "name": "stdout",
     "output_type": "stream",
     "text": [
      "Epoch: 01/10 | Training Loss: 0.246 | Training Accuracy: 91.141% | Test Accuracy: 88.943%\n",
      "Epoch: 02/10 | Training Loss: 0.244 | Training Accuracy: 91.200% | Test Accuracy: 88.963%\n",
      "Epoch: 03/10 | Training Loss: 0.239 | Training Accuracy: 91.256% | Test Accuracy: 88.983%\n",
      "Epoch: 04/10 | Training Loss: 0.241 | Training Accuracy: 91.253% | Test Accuracy: 89.331%\n",
      "Epoch: 05/10 | Training Loss: 0.243 | Training Accuracy: 91.221% | Test Accuracy: 89.162%\n",
      "Epoch: 06/10 | Training Loss: 0.237 | Training Accuracy: 91.411% | Test Accuracy: 88.834%\n",
      "Epoch: 07/10 | Training Loss: 0.235 | Training Accuracy: 91.601% | Test Accuracy: 89.391%\n",
      "Epoch: 08/10 | Training Loss: 0.229 | Training Accuracy: 91.636% | Test Accuracy: 89.062%\n",
      "Epoch: 09/10 | Training Loss: 0.233 | Training Accuracy: 91.638% | Test Accuracy: 88.565%\n",
      "Epoch: 10/10 | Training Loss: 0.230 | Training Accuracy: 91.976% | Test Accuracy: 89.650%\n"
     ]
    }
   ],
   "source": [
    "# train some more\n",
    "\n",
    "epochs = 10\n",
    "for e in range(epochs):\n",
    "    running_loss = 0\n",
    "    running_accuracy = 0\n",
    "    for images, labels in trainloader:\n",
    "        images = images.cuda()\n",
    "        labels = labels.cuda()\n",
    "        \n",
    "        optimizer.zero_grad()\n",
    "        \n",
    "        log_ps = model(images)\n",
    "        loss = criterion(log_ps, labels)\n",
    "        loss.backward()\n",
    "        optimizer.step()\n",
    "        \n",
    "        ps = torch.exp(log_ps)\n",
    "        top_p, top_class = ps.topk(1, dim=1)\n",
    "        equals = top_class == labels.view(*top_class.shape)\n",
    "        accuracy = torch.mean(equals.type(torch.FloatTensor))\n",
    "        \n",
    "        running_loss += loss.item()\n",
    "        running_accuracy += accuracy.item()\n",
    "        \n",
    "    else:\n",
    "        train_acc.append(running_accuracy / len(trainloader))\n",
    "        train_losses.append(running_loss / len(trainloader))\n",
    "        \n",
    "        accuracy = 0\n",
    "        with torch.no_grad():\n",
    "            # set model to evaluation mode\n",
    "            model.eval()\n",
    "            \n",
    "            for images, labels in testloader:\n",
    "                images = images.cuda()\n",
    "                labels = labels.cuda()\n",
    "                \n",
    "                ps = torch.exp(model(images))\n",
    "                top_p, top_class = ps.topk(1, dim=1)\n",
    "                equals = top_class == labels.view(*top_class.shape)\n",
    "                accuracy += torch.mean(equals.type(torch.FloatTensor)).item()\n",
    "                \n",
    "        test_acc.append(accuracy / len(testloader))\n",
    "        # set model back to train mode\n",
    "        model.train()\n",
    "        \n",
    "        print(f'Epoch: {e+1:02d}/{epochs} |',\n",
    "              f'Training Loss: {train_losses[-1]:.3f} |',\n",
    "              f'Training Accuracy: {train_acc[-1]*100:.3f}% |',\n",
    "              f'Test Accuracy: {test_acc[-1]*100:.3f}%')"
   ]
  },
  {
   "cell_type": "code",
   "execution_count": 65,
   "metadata": {},
   "outputs": [
    {
     "name": "stdout",
     "output_type": "stream",
     "text": [
      "Epoch: 01/30 | Training Loss: 0.190 | Training Accuracy: 93.157% | Test Accuracy: 90.287%\n",
      "Epoch: 02/30 | Training Loss: 0.174 | Training Accuracy: 93.593% | Test Accuracy: 90.167%\n",
      "Epoch: 03/30 | Training Loss: 0.169 | Training Accuracy: 93.765% | Test Accuracy: 90.177%\n",
      "Epoch: 04/30 | Training Loss: 0.167 | Training Accuracy: 93.940% | Test Accuracy: 90.376%\n",
      "Epoch: 05/30 | Training Loss: 0.163 | Training Accuracy: 93.943% | Test Accuracy: 90.316%\n",
      "Epoch: 06/30 | Training Loss: 0.165 | Training Accuracy: 94.050% | Test Accuracy: 90.316%\n",
      "Epoch: 07/30 | Training Loss: 0.158 | Training Accuracy: 94.271% | Test Accuracy: 90.257%\n",
      "Epoch: 08/30 | Training Loss: 0.158 | Training Accuracy: 94.188% | Test Accuracy: 90.197%\n",
      "Epoch: 09/30 | Training Loss: 0.156 | Training Accuracy: 94.208% | Test Accuracy: 90.257%\n",
      "Epoch: 10/30 | Training Loss: 0.155 | Training Accuracy: 94.291% | Test Accuracy: 90.267%\n",
      "Epoch: 11/30 | Training Loss: 0.154 | Training Accuracy: 94.315% | Test Accuracy: 90.107%\n",
      "Epoch: 12/30 | Training Loss: 0.152 | Training Accuracy: 94.286% | Test Accuracy: 90.336%\n",
      "Epoch: 13/30 | Training Loss: 0.151 | Training Accuracy: 94.481% | Test Accuracy: 90.217%\n",
      "Epoch: 14/30 | Training Loss: 0.150 | Training Accuracy: 94.486% | Test Accuracy: 90.346%\n",
      "Epoch: 15/30 | Training Loss: 0.149 | Training Accuracy: 94.586% | Test Accuracy: 90.297%\n",
      "Epoch: 16/30 | Training Loss: 0.149 | Training Accuracy: 94.493% | Test Accuracy: 90.297%\n",
      "Epoch: 17/30 | Training Loss: 0.145 | Training Accuracy: 94.665% | Test Accuracy: 90.297%\n",
      "Epoch: 18/30 | Training Loss: 0.147 | Training Accuracy: 94.568% | Test Accuracy: 90.157%\n",
      "Epoch: 19/30 | Training Loss: 0.147 | Training Accuracy: 94.571% | Test Accuracy: 90.267%\n",
      "Epoch: 20/30 | Training Loss: 0.145 | Training Accuracy: 94.656% | Test Accuracy: 90.257%\n",
      "Epoch: 21/30 | Training Loss: 0.142 | Training Accuracy: 94.761% | Test Accuracy: 90.117%\n",
      "Epoch: 22/30 | Training Loss: 0.141 | Training Accuracy: 94.646% | Test Accuracy: 90.277%\n",
      "Epoch: 23/30 | Training Loss: 0.141 | Training Accuracy: 94.771% | Test Accuracy: 90.177%\n",
      "Epoch: 24/30 | Training Loss: 0.141 | Training Accuracy: 94.814% | Test Accuracy: 90.227%\n",
      "Epoch: 25/30 | Training Loss: 0.139 | Training Accuracy: 94.871% | Test Accuracy: 90.157%\n",
      "Epoch: 26/30 | Training Loss: 0.140 | Training Accuracy: 94.819% | Test Accuracy: 90.187%\n",
      "Epoch: 27/30 | Training Loss: 0.138 | Training Accuracy: 94.879% | Test Accuracy: 90.316%\n",
      "Epoch: 28/30 | Training Loss: 0.135 | Training Accuracy: 94.921% | Test Accuracy: 90.287%\n",
      "Epoch: 29/30 | Training Loss: 0.136 | Training Accuracy: 94.993% | Test Accuracy: 90.406%\n",
      "Epoch: 30/30 | Training Loss: 0.137 | Training Accuracy: 94.909% | Test Accuracy: 90.197%\n"
     ]
    }
   ],
   "source": [
    "# lower the lr\n",
    "optimizer = optim.Adam(model.parameters(), lr=0.0001)\n",
    "\n",
    "epochs = 30\n",
    "for e in range(epochs):\n",
    "    running_loss = 0\n",
    "    running_accuracy = 0\n",
    "    for images, labels in trainloader:\n",
    "        images = images.cuda()\n",
    "        labels = labels.cuda()\n",
    "        \n",
    "        optimizer.zero_grad()\n",
    "        \n",
    "        log_ps = model(images)\n",
    "        loss = criterion(log_ps, labels)\n",
    "        loss.backward()\n",
    "        optimizer.step()\n",
    "        \n",
    "        ps = torch.exp(log_ps)\n",
    "        top_p, top_class = ps.topk(1, dim=1)\n",
    "        equals = top_class == labels.view(*top_class.shape)\n",
    "        accuracy = torch.mean(equals.type(torch.FloatTensor))\n",
    "        \n",
    "        running_loss += loss.item()\n",
    "        running_accuracy += accuracy.item()\n",
    "        \n",
    "    else:\n",
    "        train_acc.append(running_accuracy / len(trainloader))\n",
    "        train_losses.append(running_loss / len(trainloader))\n",
    "        \n",
    "        accuracy = 0\n",
    "        with torch.no_grad():\n",
    "            # set model to evaluation mode\n",
    "            model.eval()\n",
    "            \n",
    "            for images, labels in testloader:\n",
    "                images = images.cuda()\n",
    "                labels = labels.cuda()\n",
    "                \n",
    "                ps = torch.exp(model(images))\n",
    "                top_p, top_class = ps.topk(1, dim=1)\n",
    "                equals = top_class == labels.view(*top_class.shape)\n",
    "                accuracy += torch.mean(equals.type(torch.FloatTensor)).item()\n",
    "                \n",
    "        test_acc.append(accuracy / len(testloader))\n",
    "        # set model back to train mode\n",
    "        model.train()\n",
    "        \n",
    "        print(f'Epoch: {e+1:02d}/{epochs} |',\n",
    "              f'Training Loss: {train_losses[-1]:.3f} |',\n",
    "              f'Training Accuracy: {train_acc[-1]*100:.3f}% |',\n",
    "              f'Test Accuracy: {test_acc[-1]*100:.3f}%')"
   ]
  },
  {
   "cell_type": "code",
   "execution_count": 66,
   "metadata": {},
   "outputs": [],
   "source": [
    "%matplotlib inline\n",
    "%config InlineBackend.figure_format = 'retina'\n",
    "\n",
    "import matplotlib.pyplot as plt"
   ]
  },
  {
   "cell_type": "code",
   "execution_count": 67,
   "metadata": {},
   "outputs": [
    {
     "data": {
      "text/plain": [
       "<matplotlib.legend.Legend at 0x7f574f5cfe80>"
      ]
     },
     "execution_count": 67,
     "metadata": {},
     "output_type": "execute_result"
    },
    {
     "data": {
      "image/png": "[encoded data removed]",
      "text/plain": [
       "<matplotlib.figure.Figure at 0x7f574f7e6828>"
      ]
     },
     "metadata": {
      "image/png": {
       "height": 250,
       "width": 386
      },
      "needs_background": "light"
     },
     "output_type": "display_data"
    }
   ],
   "source": [
    "plt.plot(train_acc, label='Training accuracy')\n",
    "plt.plot(test_acc, label='Validation accuracy')\n",
    "plt.legend(frameon=False)"
   ]
  },
  {
   "cell_type": "markdown",
   "metadata": {},
   "source": [
    "## Inference\n",
    "\n",
    "Now that the model is trained, we can use it for inference. We've done this before, but now we need to remember to set the model in inference mode with `model.eval()`. You'll also want to turn off autograd with the `torch.no_grad()` context."
   ]
  },
  {
   "cell_type": "code",
   "execution_count": 70,
   "metadata": {},
   "outputs": [
    {
     "data": {
      "image/png": "[encoded data removed]",
      "text/plain": [
       "<matplotlib.figure.Figure at 0x7f574f70bda0>"
      ]
     },
     "metadata": {
      "image/png": {
       "height": 204,
       "width": 423
      },
      "needs_background": "light"
     },
     "output_type": "display_data"
    }
   ],
   "source": [
    "# Import helper module (should be in the repo)\n",
    "import helper\n",
    "\n",
    "# Test out your network!\n",
    "\n",
    "model.eval()\n",
    "\n",
    "dataiter = iter(testloader)\n",
    "images, labels = dataiter.next()\n",
    "img = images[0]\n",
    "# Convert 2D image to 1D vector\n",
    "img = img.view(1, 784)\n",
    "\n",
    "# Calculate the class probabilities (softmax) for img\n",
    "with torch.no_grad():\n",
    "    output = model.forward(img.cuda())\n",
    "\n",
    "ps = torch.exp(output)\n",
    "\n",
    "# Plot the image and probabilities\n",
    "helper.view_classify(img.view(1, 28, 28), ps.cpu(), version='Fashion')"
   ]
  },
  {
   "cell_type": "markdown",
   "metadata": {},
   "source": [
    "## Next Up!\n",
    "\n",
    "In the next part, I'll show you how to save your trained models. In general, you won't want to train a model everytime you need it. Instead, you'll train once, save it, then load the model when you want to train more or use if for inference."
   ]
  }
 ],
 "metadata": {
  "kernelspec": {
   "display_name": "Python 3",
   "language": "python",
   "name": "python3"
  },
  "language_info": {
   "codemirror_mode": {
    "name": "ipython",
    "version": 3
   },
   "file_extension": ".py",
   "mimetype": "text/x-python",
   "name": "python",
   "nbconvert_exporter": "python",
   "pygments_lexer": "ipython3",
   "version": "3.6.5"
  }
 },
 "nbformat": 4,
 "nbformat_minor": 2
}
